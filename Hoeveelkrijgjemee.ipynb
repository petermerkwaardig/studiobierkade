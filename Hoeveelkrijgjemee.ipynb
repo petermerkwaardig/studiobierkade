{
  "nbformat": 4,
  "nbformat_minor": 0,
  "metadata": {
    "colab": {
      "private_outputs": true,
      "provenance": [],
      "cell_execution_strategy": "setup",
      "include_colab_link": true
    },
    "kernelspec": {
      "name": "python3",
      "display_name": "Python 3"
    },
    "language_info": {
      "name": "python"
    }
  },
  "cells": [
    {
      "cell_type": "markdown",
      "metadata": {
        "id": "view-in-github",
        "colab_type": "text"
      },
      "source": [
        "<a href=\"https://colab.research.google.com/github/petermerkwaardig/studiobierkade/blob/main/Hoeveelkrijgjemee.ipynb\" target=\"_parent\"><img src=\"https://colab.research.google.com/assets/colab-badge.svg\" alt=\"Open In Colab\"/></a>"
      ]
    },
    {
      "cell_type": "markdown",
      "source": [
        "# **Ontslagvergoedingcalculator**\n",
        "\n",
        "1.   Druk op de play-knop om de berekening te starten\n",
        "2.   Vul start- en einddatum in van je dienstverband.\n",
        "3.   Geef het bruto jaarinkomen op voor elk jaar van je dienstverband.\n",
        "\n",
        "Klik op 'Bereken' en je ziet je bruto maandsalaris bij Lifetri en je ontslagvergoeding (volgens het sociaal plan)\n"
      ],
      "metadata": {
        "id": "5zzXVq4ASuVr"
      }
    },
    {
      "cell_type": "code",
      "source": [
        "# @title Hoeveel krijg je mee? { run: \"auto\", vertical-output: true, display-mode: \"form\" }\n",
        "# @title\n",
        "# Importeer de benodigde bibliotheken\n",
        "import ipywidgets as widgets\n",
        "from IPython.display import display, clear_output\n",
        "from datetime import datetime\n",
        "\n",
        "# Functies voor berekeningen\n",
        "def calculate_average_monthly_salary(yearly_salaries):\n",
        "    total_salary = sum(yearly_salaries)\n",
        "    average_monthly_salary = total_salary / (len(yearly_salaries) * 12)\n",
        "    return round(average_monthly_salary, 2)\n",
        "\n",
        "def calculate_severance_payment(start_date, end_date, monthly_salary):\n",
        "    start_date = datetime.strptime(start_date, '%Y-%m-%d')\n",
        "    end_date = datetime.strptime(end_date, '%Y-%m-%d')\n",
        "    total_months = (end_date.year - start_date.year) * 12 + end_date.month - start_date.month\n",
        "    years = total_months // 12\n",
        "    months = total_months % 12\n",
        "    partial_year = months / 12\n",
        "    transitievergoeding_per_year = (1/3) * monthly_salary\n",
        "    transitievergoeding = (years + partial_year) * transitievergoeding_per_year\n",
        "    correctiefactor = 1.8\n",
        "    severance_payment = transitievergoeding * correctiefactor\n",
        "    return round(severance_payment, 2)\n",
        "\n",
        "# Callback functie om jaarinkomen widgets te genereren\n",
        "def generate_yearly_income_widgets(change):\n",
        "    # Wis de bestaande output\n",
        "    clear_output(wait=True)\n",
        "    display(start_date_widget, end_date_widget, button_generate_income_widgets)\n",
        "\n",
        "    # Haal de start- en einddatums op\n",
        "    start_date = start_date_widget.value\n",
        "    end_date = end_date_widget.value\n",
        "\n",
        "    if not start_date or not end_date:\n",
        "        print(\"Voer zowel een startdatum als einddatum in.\")\n",
        "        return\n",
        "\n",
        "    try:\n",
        "        start_date = datetime.strptime(start_date, '%Y-%m-%d')\n",
        "        end_date = datetime.strptime(end_date, '%Y-%m-%d')\n",
        "    except ValueError:\n",
        "        print(\"Gebruik het juiste datumformaat (YYYY-MM-DD).\")\n",
        "        return\n",
        "\n",
        "    if start_date > end_date:\n",
        "        print(\"Startdatum kan niet later zijn dan einddatum.\")\n",
        "        return\n",
        "\n",
        "    # Bereken de jaren van dienst\n",
        "    start_year = start_date.year\n",
        "    end_year = end_date.year\n",
        "\n",
        "    # Genereer widgets voor de jaren dat de werknemer in dienst was\n",
        "    global salary_widgets\n",
        "    salary_widgets = []\n",
        "    for year in range(start_year, end_year + 1):\n",
        "        salary_widget = widgets.FloatText(value=0, description=f'Bruto {year}:')\n",
        "        salary_widgets.append(salary_widget)\n",
        "        display(salary_widget)\n",
        "\n",
        "    # Weergeven van de bereken knop\n",
        "    display(button_calculate)\n",
        "\n",
        "# Functie om berekeningen uit te voeren\n",
        "def on_calculate_button_click(b):\n",
        "    try:\n",
        "        yearly_salaries = [widget.value for widget in salary_widgets]\n",
        "        average_monthly_salary = calculate_average_monthly_salary(yearly_salaries)\n",
        "        severance_payment = calculate_severance_payment(start_date_widget.value, end_date_widget.value, average_monthly_salary)\n",
        "        print(f\"Gemiddeld bruto maandsalaris: €{average_monthly_salary}\")\n",
        "        print(f\"Ontslagvergoeding: €{severance_payment}\")\n",
        "    except Exception as e:\n",
        "        print(f\"Fout bij berekenen: {e}\")\n",
        "\n",
        "# Widgets voor datuminvoer\n",
        "start_date_widget = widgets.Text(value='YYYY-MM-DD', description='Startdatum:')\n",
        "end_date_widget = widgets.Text(value='YYYY-MM-DD', description='Einddatum:')\n",
        "button_generate_income_widgets = widgets.Button(description=\"Je jaarinkomens\")\n",
        "button_generate_income_widgets.on_click(generate_yearly_income_widgets)\n",
        "\n",
        "# Knop voor berekening\n",
        "button_calculate = widgets.Button(description=\"Bereken\")\n",
        "button_calculate.on_click(on_calculate_button_click)\n",
        "\n",
        "# Weergeven van widgets\n",
        "display(start_date_widget, end_date_widget, button_generate_income_widgets)\n"
      ],
      "metadata": {
        "id": "UKuUSqWEpD9e",
        "collapsed": true
      },
      "execution_count": null,
      "outputs": []
    }
  ]
}